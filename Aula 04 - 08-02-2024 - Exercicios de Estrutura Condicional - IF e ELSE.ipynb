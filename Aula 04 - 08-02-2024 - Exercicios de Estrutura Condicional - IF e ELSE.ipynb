{
 "cells": [
  {
   "cell_type": "code",
   "execution_count": null,
   "metadata": {
    "colab": {
     "base_uri": "https://localhost:8080/"
    },
    "executionInfo": {
     "elapsed": 4090,
     "status": "ok",
     "timestamp": 1707481011308,
     "user": {
      "displayName": "Alan Diek Guimarães",
      "userId": "14723038698467659112"
     },
     "user_tz": 180
    },
    "id": "K6oIUN6juqre",
    "is_executing": true,
    "outputId": "e6193163-2dfb-4a3b-984f-7458f173e412"
   },
   "outputs": [],
   "source": [
    "# 1. Leia dois números, faça a soma e apresente caso seja maior que 15.\n",
    "\n",
    "nota1 = float(input(\"Insira o primeiro número: \")) # Solicita o primeiro número ao usuário\n",
    "\n",
    "nota2 = float(input(\"Insira o segundo número: \")) # Solicita o segundo número ao usuário\n",
    "\n",
    "soma = nota1 + nota2 # Calcula a soma\n",
    "\n",
    "if soma > 15: #verifica se a soma é maior que 15\n",
    "  print(f\"A soma dos valores é {soma:.2f}\") # printa na tela se o valor for maior que 15, senão finaliza o programa.\n",
    "else:\n",
    "  print(\"O valor informado está abaixo do esperado\")\n",
    "\n"
   ]
  },
  {
   "cell_type": "code",
   "execution_count": null,
   "metadata": {
    "colab": {
     "base_uri": "https://localhost:8080/"
    },
    "executionInfo": {
     "elapsed": 2272,
     "status": "ok",
     "timestamp": 1707433622324,
     "user": {
      "displayName": "Alan Diek Guimarães",
      "userId": "14723038698467659112"
     },
     "user_tz": 180
    },
    "id": "xTawrdzw80yx",
    "is_executing": true,
    "outputId": "655e9e63-fbd4-4712-f59b-ed9123056099"
   },
   "outputs": [],
   "source": [
    "# 2. Faça um programa que recebendo um valor inteiro, informe se o número é positivo,negativo ou neutro.\n",
    "\n",
    "valor = int(input(\"Insira o valor: \")) # Solicita ao usuário o valor\n",
    "\n",
    "if valor > 0: #Verifica sé o valor é maior do que 0 e informa que é positivo\n",
    "  print(\"O valor é POSITIVO\")\n",
    "elif valor < 0: #Verifica sé o valor é menor do que 0 e informa que é negativo\n",
    "  print(\"O valor é NEGATIVO\")\n",
    "else: # Caso não seja nenhuma das opções anteriores infoma que o valor é neutro\n",
    "  print(\"Seu valor é NEUTRO\")"
   ]
  },
  {
   "cell_type": "code",
   "execution_count": null,
   "metadata": {
    "colab": {
     "base_uri": "https://localhost:8080/"
    },
    "executionInfo": {
     "elapsed": 2180,
     "status": "ok",
     "timestamp": 1707434342365,
     "user": {
      "displayName": "Alan Diek Guimarães",
      "userId": "14723038698467659112"
     },
     "user_tz": 180
    },
    "id": "0Cu7kJTh_CMU",
    "outputId": "b0d04e8f-3f87-43b3-f318-1adfcb498660"
   },
   "outputs": [
    {
     "name": "stdout",
     "output_type": "stream",
     "text": [
      "Informe sua idade: 15\n",
      "Você é menor de idade\n"
     ]
    }
   ],
   "source": [
    "#3. Leia a idade e informe se a pessoa é maior ou menor de idade\n",
    "\n",
    "idade = int(input(\"Informe sua idade: \")) # Solicita ao usuário a sua idade.\n",
    "\n",
    "if idade >= 18:\n",
    "  print(\"Você é maior de idade\")\n",
    "else:\n",
    "  print(\"Você é menor de idade\")"
   ]
  },
  {
   "cell_type": "code",
   "execution_count": null,
   "metadata": {
    "colab": {
     "base_uri": "https://localhost:8080/"
    },
    "executionInfo": {
     "elapsed": 2460,
     "status": "ok",
     "timestamp": 1707435613039,
     "user": {
      "displayName": "Alan Diek Guimarães",
      "userId": "14723038698467659112"
     },
     "user_tz": 180
    },
    "id": "5n0ArouOC9DB",
    "outputId": "39aeebac-3f8f-4b77-ff6f-3240b8b4bed9"
   },
   "outputs": [
    {
     "name": "stdout",
     "output_type": "stream",
     "text": [
      "Caro usuário, qual é a temperatura atual? 29\n",
      "29°C é considerado agradável\n"
     ]
    }
   ],
   "source": [
    "# 4. Faça um programa que pergunte a temperatura atual para o usuário e mostre uma\n",
    "# mensagem na tela dizendo se está “quente”, “frio” ou “agradável”.\n",
    "\n",
    "temperatura = int(input(\"Caro usuário, qual é a temperatura atual? \"))\n",
    "\n",
    "if  temperatura >= 28:\n",
    "  print(f\"{temperatura}°C é considerado quente.\")\n",
    "elif temperatura <= 20:\n",
    "  print(f\"{temperatura}°C é considerado frio\")\n",
    "else:\n",
    "  print(f\"{temperatura}°C é considerado agradável\")\n"
   ]
  },
  {
   "cell_type": "code",
   "execution_count": null,
   "metadata": {
    "colab": {
     "base_uri": "https://localhost:8080/"
    },
    "executionInfo": {
     "elapsed": 4482,
     "status": "ok",
     "timestamp": 1707437612863,
     "user": {
      "displayName": "Alan Diek Guimarães",
      "userId": "14723038698467659112"
     },
     "user_tz": 180
    },
    "id": "A7qnPxV6FhN9",
    "outputId": "10732ec5-1f90-45e9-b741-b482e49a86f5"
   },
   "outputs": [
    {
     "name": "stdout",
     "output_type": "stream",
     "text": [
      "Informe um número: 5\n",
      "Informe outro número: 5\n",
      "Os números são iguais\n"
     ]
    }
   ],
   "source": [
    "# 5. Faça um programa em linguagem Python que leia dois números inteiros e informe se estes são iguais ou diferentes.\n",
    "\n",
    "n1 = int(input(\"Informe um número: \"))\n",
    "\n",
    "n2 = int(input(\"Informe outro número: \"))\n",
    "\n",
    "if n1 == n2:\n",
    "  print(\"Os números são iguais\")\n",
    "else:\n",
    "  print(\"Os números são diferentes\")\n"
   ]
  },
  {
   "cell_type": "code",
   "execution_count": null,
   "metadata": {
    "colab": {
     "base_uri": "https://localhost:8080/"
    },
    "executionInfo": {
     "elapsed": 2376,
     "status": "ok",
     "timestamp": 1707437980153,
     "user": {
      "displayName": "Alan Diek Guimarães",
      "userId": "14723038698467659112"
     },
     "user_tz": 180
    },
    "id": "YVxlTgF_Noga",
    "outputId": "02aa1bc2-9a7b-4914-9bda-b176c22c7a8e"
   },
   "outputs": [
    {
     "name": "stdout",
     "output_type": "stream",
     "text": [
      "Informe sua senha: 1245\n",
      "ACESSO NEGADO\n"
     ]
    }
   ],
   "source": [
    "# 6. Escreva um programa que verifique a validade de uma senha fornecida pelo usuário. A senha válida é o número 1234. Devem ser impressas as seguintes mensagens:\n",
    "#  ACESSO PERMITIDO caso a senha seja válida.\n",
    "#  ACESSO NEGADO caso a senha seja inválida.\n",
    "\n",
    "senha_valida = 1234\n",
    "\n",
    "senha = int(input(\"Informe sua senha: \"))\n",
    "\n",
    "if senha == senha_valida:\n",
    "  print(\"ACESSO PERMITIDO\")\n",
    "else:\n",
    "  print(\"ACESSO NEGADO\")"
   ]
  },
  {
   "cell_type": "code",
   "execution_count": null,
   "metadata": {
    "colab": {
     "base_uri": "https://localhost:8080/"
    },
    "executionInfo": {
     "elapsed": 8489,
     "status": "ok",
     "timestamp": 1707439167604,
     "user": {
      "displayName": "Alan Diek Guimarães",
      "userId": "14723038698467659112"
     },
     "user_tz": 180
    },
    "id": "amBF1qcHPVne",
    "outputId": "10a5cc3b-79f7-4c05-a4c9-49a3a0951692"
   },
   "outputs": [
    {
     "name": "stdout",
     "output_type": "stream",
     "text": [
      "Informe sua primeira nota25\n",
      "Nota inválida \n",
      "Informe sua primeira nota10\n",
      "Informe sua segunda nota3\n",
      "Não foi dessa vez, você está em EXAME, sua media foi 6.5\n"
     ]
    }
   ],
   "source": [
    "# 7. Ler duas notas de um aluno, efetuar a média aritmética e, se a média for maior ou igual a 7, informar que o aluno foi aprovado; se a média for maior ou igual a 5 mas\n",
    "# menor do que 7, informar que o aluno está de exame; se a média for menor do que 5 informar que o aluno foi reprovado\n",
    "\n",
    "\n",
    "nota1 = int(input(\"Informe sua primeira nota\"))\n",
    "\n",
    "while nota1 < 0 or nota1 > 10:\n",
    "  print(\"Nota inválida \")\n",
    "  nota1 = int(input(\"Informe sua primeira nota\"))\n",
    "\n",
    "nota2 = int(input(\"Informe sua segunda nota\"))\n",
    "\n",
    "while nota2 < 0 or nota2 >10:\n",
    "  print(\"Nota inválida \")\n",
    "  nota2 = int(input(\"Informe sua segunda nota\"))\n",
    "\n",
    "media = (nota1 + nota2)/2\n",
    "\n",
    "if media >= 7:\n",
    "  print(f\"Parabéns, você foi APROVADO, sua media foi {media}\")\n",
    "elif media < 5:\n",
    "  print(f\"Estude mais um pouco, você foi REPROVADO e sua media foi {media}\")\n",
    "else:\n",
    "  print(f\"Não foi dessa vez, você está em EXAME, sua media foi {media}\")"
   ]
  },
  {
   "cell_type": "code",
   "execution_count": null,
   "metadata": {
    "colab": {
     "base_uri": "https://localhost:8080/"
    },
    "executionInfo": {
     "elapsed": 4473,
     "status": "ok",
     "timestamp": 1707440044014,
     "user": {
      "displayName": "Alan Diek Guimarães",
      "userId": "14723038698467659112"
     },
     "user_tz": 180
    },
    "id": "Pugx6h3fQ_Bh",
    "outputId": "6d90240a-8038-45d9-e1f6-1f18458deae3"
   },
   "outputs": [
    {
     "name": "stdout",
     "output_type": "stream",
     "text": [
      "Informe qual foi o placar da seleção BRASILEIRA 2\n",
      "Informe qual foi o placar da seleção ARGENTINA 2\n",
      "O resultado do jogo foi empate \n"
     ]
    }
   ],
   "source": [
    "# 8. Desenvolva um programa que recebe do usuário o placar de um jogo de futebol (os gols de cada time)\n",
    "# e informe se o resultado foi um empate, se a vitória foi do primeiro time ou do segundo time.\n",
    "\n",
    "placar1 = int(input(\"Informe qual foi o placar da seleção BRASILEIRA \"))\n",
    "\n",
    "placar2 = int(input(\"Informe qual foi o placar da seleção ARGENTINA \"))\n",
    "\n",
    "if placar1 > placar2:\n",
    "  print(\"a Selecão BRASILEIRA foi campeã \")\n",
    "elif placar2 > placar1:\n",
    "  print(\"a Selecão ARGENTINA foi campeã \")\n",
    "else:\n",
    "  print(\"O resultado do jogo foi empate \")"
   ]
  },
  {
   "cell_type": "code",
   "execution_count": 2,
   "metadata": {
    "colab": {
     "base_uri": "https://localhost:8080/",
     "height": 390
    },
    "executionInfo": {
     "elapsed": 10739,
     "status": "error",
     "timestamp": 1707518560436,
     "user": {
      "displayName": "Alan Diek Guimarães",
      "userId": "14723038698467659112"
     },
     "user_tz": 180
    },
    "id": "Y95wwWHoW93U",
    "outputId": "9f8ce6f5-8221-4f31-be86-bb21ed361c29"
   },
   "outputs": [
    {
     "name": "stdout",
     "output_type": "stream",
     "text": [
      "Informe em qual turno você estuda. M para matutino, , V para Vespertino ou N para Noturno p\n",
      "Desculpe, opção invalida\n",
      "Informe em qual turno você estuda. M para matutino, , V para Vespertino ou N para Noturno p\n",
      "Desculpe, opção invalida\n",
      "Informe em qual turno você estuda. M para matutino, , V para Vespertino ou N para Noturno t\n",
      "Desculpe, opção invalida\n",
      "Informe em qual turno você estuda. M para matutino, , V para Vespertino ou N para Noturno n\n",
      "Boa Noite\n"
     ]
    }
   ],
   "source": [
    "# 9. Faça um Programa que pergunte em que turno você estuda. Peça para digitar M-matutino ou V-Vespertino ou N- Noturno. Imprima a mensagem\n",
    "# \"Bom Dia!\", \"Boa Tarde!\" ou \"Boa Noite!\" ou \"Valor Inválido!\", conforme o caso.\n",
    "\n",
    "turno = str(input(\"Informe em qual turno você estuda. M para matutino, , V para Vespertino ou N para Noturno \" )).upper()\n",
    "\n",
    "while (turno != \"M\" and turno != \"V\" and turno != \"N\"):\n",
    "  print(\"Desculpe, opção invalida\")\n",
    "  turno = str(input(\"Informe em qual turno você estuda. M para matutino, , V para Vespertino ou N para Noturno \" )).upper()\n",
    "\n",
    "if turno == \"M\":\n",
    "  print(\"Bom dia\")\n",
    "elif turno == \"V\":\n",
    "  print(\"Boa Tarde\")\n",
    "else:\n",
    "  print(\"Boa Noite\")"
   ]
  },
  {
   "cell_type": "code",
   "execution_count": null,
   "metadata": {
    "colab": {
     "base_uri": "https://localhost:8080/"
    },
    "executionInfo": {
     "elapsed": 2053,
     "status": "ok",
     "timestamp": 1707484757132,
     "user": {
      "displayName": "Alan Diek Guimarães",
      "userId": "14723038698467659112"
     },
     "user_tz": 180
    },
    "id": "qOquhdbWY2iR",
    "outputId": "1b86daa7-76d6-4c46-eb9e-6ae254d7355c"
   },
   "outputs": [
    {
     "name": "stdout",
     "output_type": "stream",
     "text": [
      "Informe sua idade 151\n",
      "Você digitou errado ou você é um DEUS\n"
     ]
    }
   ],
   "source": [
    "# 10. Faça um programa que solicite ao usuário sua idade, depois disso, exiba a classificação etária de acordo com as faixas de valores:\n",
    "#  Criança para 0 até 11 anos;\n",
    "#  Adolescente para 12 até 18 anos;\n",
    "#  Jovem para 19 até 24 anos;\n",
    "#  Adulto para 25 até 40 anos;\n",
    "#  Meia Idade para 41 até 60 anos;\n",
    "#  Idoso acima de 60 anos.\n",
    "\n",
    "idade = int(input(\"Informe sua idade \"))\n",
    "\n",
    "if idade >= 0 and idade <= 11:\n",
    "  print(\"Você é uma CRIANÇA\")\n",
    "elif idade >= 12 and idade <= 12:\n",
    "  print(\"Você é adolecente\")\n",
    "elif idade >= 19 and idade <= 24:\n",
    "  print(\"Você é jovem\")\n",
    "elif idade >= 25 and idade <= 40:\n",
    "  print(\"Você é adulto\")\n",
    "elif idade >= 41 and idade <= 60:\n",
    "  print(\"Você tem meia idade\")\n",
    "elif idade >= 61 and idade <=150:\n",
    "  print(\"Você é idoso\")\n",
    "else:\n",
    "  print(\"Você digitou errado ou você é um DEUS\")"
   ]
  },
  {
   "cell_type": "code",
   "execution_count": null,
   "metadata": {
    "colab": {
     "base_uri": "https://localhost:8080/"
    },
    "executionInfo": {
     "elapsed": 3315,
     "status": "ok",
     "timestamp": 1707493734710,
     "user": {
      "displayName": "Alan Diek Guimarães",
      "userId": "14723038698467659112"
     },
     "user_tz": 180
    },
    "id": "zE0uDkg6dWR-",
    "outputId": "3b4089e9-56b4-41fa-b641-cc00ff1db11f"
   },
   "outputs": [
    {
     "name": "stdout",
     "output_type": "stream",
     "text": [
      "Informe o valor de seu salario R$: 1501\n",
      "O seu salário antes do reajuste era R$ 1501.00 reais, você teve um reajuste de 5%, o valor do aumento foi de R$ 75.05 reais, seu novo salário é de R$ 1576.05 reais\n"
     ]
    }
   ],
   "source": [
    "# 11. As Organizações Tabajara resolveram dar um aumento de salário aos seus\n",
    "# colaboradores e lhe contrataram para desenvolver o programa que calculará os\n",
    "# reajustes. Faça um programa que recebe o salário de um colaborador e o reajuste\n",
    "# segundo o seguinte critério, baseado no salário atual:\n",
    "\n",
    "#  salários até R$ 280,00 (incluindo) : aumento de 20%\n",
    "#  salários entre R$ 280,00 e R$ 700,00 : aumento de 15%\n",
    "#  salários entre R$ 700,00 e R$ 1500,00 : aumento de 10%\n",
    "#  salários de R$ 1500,00 em diante : aumento de 5%\n",
    "\n",
    "# Após o aumento ser realizado, informe na tela:\n",
    "#  o salário antes do reajuste;\n",
    "#  o percentual de aumento aplicado;\n",
    "#  o valor do aumento;\n",
    "#  o novo salário, após o aumento.\n",
    "\n",
    "salario = float(input(\"Informe o valor de seu salario R$: \"))\n",
    "\n",
    "while salario <= 0:\n",
    "  print(\"Salário Invalido\")\n",
    "  salario = float(input(\"Informe o valor de seu salario R$: \"))\n",
    "\n",
    "if salario > 0 and salario <= 280:\n",
    "  reajuste = 20\n",
    "  aumento = 0.2 * salario\n",
    "  novo_salario = salario + aumento\n",
    "  print(f\"O seu salário antes do reajuste era R$ {salario:.2f} reais, você teve um reajuste de {reajuste}%, o valor do aumento foi de R$ {aumento:.2f} reais, seu novo salário é de R$ {novo_salario:.2f} reais\" )\n",
    "elif salario > 280 and salario <= 700:\n",
    "  reajuste = 15\n",
    "  aumento = 0.15 * salario\n",
    "  novo_salario = salario + aumento\n",
    "  print(f\"O seu salário antes do reajuste era R$ {salario:.2f} reais, você teve um reajuste de {reajuste}%, o valor do aumento foi de R$ {aumento:.2f} reais, seu novo salário é de R$ {novo_salario:.2f} reais\" )\n",
    "elif salario > 700 and salario <= 1500:\n",
    "  reajuste = 10\n",
    "  aumento = 0.1 * salario\n",
    "  novo_salario = salario + aumento\n",
    "  print(f\"O seu salário antes do reajuste era R$ {salario:.2f} reais, você teve um reajuste de {reajuste}%, o valor do aumento foi de R$ {aumento:.2f} reais, seu novo salário é de R$ {novo_salario:.2f} reais\" )\n",
    "else:\n",
    "  reajuste = 5\n",
    "  aumento = 0.05 * salario\n",
    "  novo_salario = salario + aumento\n",
    "\n",
    "  print(f\"O seu salário antes do reajuste era R$ {salario:.2f} reais, você teve um reajuste de {reajuste}%, o valor do aumento foi de R$ {aumento:.2f} reais, seu novo salário é de R$ {novo_salario:.2f} reais\" )"
   ]
  },
  {
   "cell_type": "code",
   "execution_count": null,
   "metadata": {
    "colab": {
     "base_uri": "https://localhost:8080/"
    },
    "executionInfo": {
     "elapsed": 15848,
     "status": "ok",
     "timestamp": 1707511777024,
     "user": {
      "displayName": "Alan Diek Guimarães",
      "userId": "14723038698467659112"
     },
     "user_tz": 180
    },
    "id": "jRwlZe7Nk-t8",
    "outputId": "0caef510-b2d8-485c-cfbb-6f4074d7e79f"
   },
   "outputs": [
    {
     "name": "stdout",
     "output_type": "stream",
     "text": [
      "Informe o dia da semana (1-Domingo, 2- Segunda, ...) 9\n",
      "Valor Invalido\n",
      "Informe o dia da semana (1-Domingo, 2- Segunda, ...) 10\n",
      "Valor Invalido\n",
      "Informe o dia da semana (1-Domingo, 2- Segunda, ...) 10\n",
      "Valor Invalido\n",
      "Informe o dia da semana (1-Domingo, 2- Segunda, ...) 8\n",
      "Valor Invalido\n",
      "Informe o dia da semana (1-Domingo, 2- Segunda, ...) 7\n",
      "Hoje é SÁBADO\n"
     ]
    }
   ],
   "source": [
    "# 12. Faça um Programa que leia um número e exiba o dia correspondente da semana.\n",
    "# (1-Domingo, 2- Segunda, etc.), se digitar outro valor deve aparecer valor inválido.\n",
    "\n",
    "dia_semana = int(input(\"Informe o dia da semana (1-Domingo, 2- Segunda, ...) \"))\n",
    "\n",
    "while dia_semana < 1 or dia_semana > 7:\n",
    "  print(\"Valor Inválido\")\n",
    "  dia_semana = int(input(\"Informe o dia da semana (1-Domingo, 2- Segunda, ...) \"))\n",
    "if dia_semana == 1:\n",
    "  print(\"Hoje é DOMINGO\")\n",
    "elif dia_semana == 2:\n",
    "  print(\"Hoje é SEGUNDA-FEIRA\")\n",
    "elif dia_semana == 3:\n",
    "  print(\"Hoje é TERÇA-FEIRA\")\n",
    "elif dia_semana == 4:\n",
    "  print(\"Hoje é QUARTA-FEIRA\")\n",
    "elif dia_semana == 5:\n",
    "  print(\"Hoje é QUINTA-FEIRA\")\n",
    "elif dia_semana == 6:\n",
    "  print(\"Hoje é SEXTA-FEIRA\")\n",
    "elif dia_semana == 7:\n",
    "  print(\"Hoje é SÁBADO\")\n",
    "#else:\n",
    " # print(\"Valor Invalido\")\n"
   ]
  },
  {
   "cell_type": "code",
   "execution_count": null,
   "metadata": {
    "colab": {
     "base_uri": "https://localhost:8080/"
    },
    "executionInfo": {
     "elapsed": 4695,
     "status": "ok",
     "timestamp": 1707513406629,
     "user": {
      "displayName": "Alan Diek Guimarães",
      "userId": "14723038698467659112"
     },
     "user_tz": 180
    },
    "id": "NE-G6wO9okC7",
    "outputId": "64396189-cc17-4333-83b6-a3ae45e285e6"
   },
   "outputs": [
    {
     "name": "stdout",
     "output_type": "stream",
     "text": [
      "Digite qual opção da corversão: 1 Fahrenheit → Celsius e 2 Celsius →  Fahrenheit 2\n",
      "Informe qual a temperatura Celsius atual: 0\n",
      "temperatura em Fahrenheit é: 32.00 °F\n"
     ]
    }
   ],
   "source": [
    "# 13. Faça um programa que pergunte ao usuário se ele quer passar uma temperatura de\n",
    "# Fahrenheit para Celsius ou de Celsius para Fahrenheit, e que, a partir da resposta\n",
    "# do usuário, faça a devida conversão.\n",
    "\n",
    "escolha = int(input(\"Digite qual opção da corversão: 1 Fahrenheit → Celsius e 2 Celsius →  Fahrenheit \"))\n",
    "while escolha < 1 or escolha > 2:\n",
    "  print(\"Valor inválido\")\n",
    "  escolha = int(input(f\"Digite qual opção da corversão: 1 Fahrenheit → Celsius e 2 Celsius →  Fahrenheit \"))\n",
    "\n",
    "if escolha == 1:\n",
    "  temperatura_f = float(input(\"Informe qual a temperatura Fahrenheit atual: \"))\n",
    "  temperatura = (temperatura_f - 32) * (5/9)\n",
    "  print(f\"temperatura em Celsius é: {temperatura:.2f} °C\")\n",
    "else:\n",
    "  temperatura_c = float(input(\"Informe qual a temperatura Celsius atual: \"))\n",
    "  temperatura = (temperatura_c * (9/5)) + 32\n",
    "\n",
    "  print(f\"temperatura em Fahrenheit é: {temperatura:.2f} °F\")"
   ]
  },
  {
   "cell_type": "code",
   "execution_count": null,
   "metadata": {
    "colab": {
     "base_uri": "https://localhost:8080/"
    },
    "executionInfo": {
     "elapsed": 6301,
     "status": "ok",
     "timestamp": 1707513926910,
     "user": {
      "displayName": "Alan Diek Guimarães",
      "userId": "14723038698467659112"
     },
     "user_tz": 180
    },
    "id": "3kbIyLUFu833",
    "outputId": "ffa42f77-d1d6-4135-87da-389365be3041"
   },
   "outputs": [
    {
     "name": "stdout",
     "output_type": "stream",
     "text": [
      "Informe sua idade: 150\n",
      "Idade Invalida\n",
      "Informe sua idade: 66\n",
      "Voto optativo\n"
     ]
    }
   ],
   "source": [
    "# 14. Faça um programa que receba a idade de uma pessoa e imprima sua condição\n",
    "# (obrigatória, optativa ou proibida), em relação ao ato de votar, conforme apresentado abaixo:\n",
    "#  Pessoas com idade menor que 16 anos são proibidas de votar (proibido);\n",
    "#  Pessoas com idade igual a 16 e menor que 18 anos não são obrigadas a votar (optativo);\n",
    "#  Pessoas com idade igual a 18 e menor que 65 anos são obrigadas a votar (obrigatório);\n",
    "#  Pessoas com idade igual ou maior a 65 anos não são obrigadas a votar (optativo).\n",
    "\n",
    "idade = int(input(\"Informe sua idade: \"))\n",
    "\n",
    "while idade <= 0 or idade >= 150:\n",
    "  print(\"Idade Invalida\")\n",
    "  idade = int(input(\"Informe sua idade: \"))\n",
    "\n",
    "if idade < 16 :\n",
    "  print(\"Proibido votar\")\n",
    "elif idade >= 16 and idade < 18 or idade >= 65:\n",
    "  print(\"Voto optativo\")\n",
    "elif idade >= 18 and idade < 65:\n",
    "  print(\"Voto obrigatória\")"
   ]
  },
  {
   "cell_type": "code",
   "execution_count": null,
   "metadata": {
    "id": "G4DYdsCX8q_J"
   },
   "outputs": [],
   "source": [
    "# 15. Faça um programa que faça 5 perguntas para uma pessoa sobre um crime. As perguntas são:\n",
    "# “Telefonou para a vítima? “\n",
    "# “Esteve no local do crime?”\n",
    "#  “Mora perto da vítima? “\n",
    "# “Devia para a vítima? “\n",
    "# “Já trabalhou com a vítima? “\n",
    "# O programa deve no final emitir uma classificação sobre a participação da pessoa no crime. Se a pessoa responder positivamente a 2 questões ela deve ser\n",
    "# classificada como “Suspeita”, entre 3 e 4 como “Cúmplice” e 5 como “Assassino“. Caso contrário, ele será classificado como “Inocente“.\n",
    "# RESPOSTA DO PROFESSOR\n",
    "print(\"Responda às seguinte perguntas como sim ou não:\")\n",
    "pergunta1 = input(\"Telefonou para a vitima?\").lower()\n",
    "pergunta2 = input(\"Esteve no local do crime?\").lower()\n",
    "pergunta3 = input(\"Mora perto da vitima?\").lower()\n",
    "pergunta4 = input(\"Devia para a vitima?\").lower()\n",
    "pergunta5 = input(\"Já trabalhou com a vitima?\").lower()\n",
    "\n",
    "positivas = 0\n",
    "\n",
    "if pergunta1 == \"sim\":\n",
    "  positivas += 1\n",
    "if pergunta2 == \"sim\":\n",
    "  positivas += 1\n",
    "if pergunta3 == \"sim\":\n",
    "  positivas += 1\n",
    "if pergunta4 == \"sim\":\n",
    "  positivas += 1\n",
    "if pergunta5 == \"sim\":\n",
    "  positivas += 1\n",
    "\n",
    "if positivas == 2:\n",
    "  print(\"Suspeita\")\n",
    "# elif 3 <= positivas <= 4:\n",
    "elif positivas >=3 and positivas <=4:\n",
    "  print(\"Cumplice\")\n",
    "elif positivas == 5:\n",
    "  print(\"bandindinho\")\n",
    "else:\n",
    "  print(\"inocente\")"
   ]
  },
  {
   "cell_type": "code",
   "execution_count": 61,
   "metadata": {
    "colab": {
     "base_uri": "https://localhost:8080/"
    },
    "executionInfo": {
     "elapsed": 4838,
     "status": "ok",
     "timestamp": 1707519416153,
     "user": {
      "displayName": "Alan Diek Guimarães",
      "userId": "14723038698467659112"
     },
     "user_tz": 180
    },
    "id": "NVvTXMis9LTL",
    "outputId": "cf0304f1-2a8b-46da-c84e-090bf03fff1b"
   },
   "outputs": [
    {
     "name": "stdout",
     "output_type": "stream",
     "text": [
      "Informe o valor do primeiro produto R$5\n",
      "Informe o valor do segundo produto R$4\n",
      "Informe o valor do terceiro produto R$6\n",
      "O menor preco é R$4.0\n"
     ]
    }
   ],
   "source": [
    "# 16. Faça um programa que pergunte o preço de três produtos e informe qual produto você deve comprar, sabendo que a decisão é sempre pelo mais barato.\n",
    "\n",
    "preco1 = float(input(\"Informe o valor do primeiro produto R$\"))\n",
    "preco2 = float(input(\"Informe o valor do segundo produto R$\"))\n",
    "preco3 = float(input(\"Informe o valor do terceiro produto R$\"))\n",
    "\n",
    "menor = preco1\n",
    "\n",
    "if menor > preco2:\n",
    "  menor = preco2\n",
    "  if menor > preco3:\n",
    "    menor = preco3\n",
    "elif menor > preco3:\n",
    "  menor = preco3\n",
    "print(f\"O menor preco é R${menor}\")\n"
   ]
  }
 ],
 "metadata": {
  "colab": {
   "authorship_tag": "ABX9TyNXhamPnyycb6OCN2Asn7g8",
   "provenance": []
  },
  "kernelspec": {
   "display_name": "Python 3 (ipykernel)",
   "language": "python",
   "name": "python3"
  },
  "language_info": {
   "codemirror_mode": {
    "name": "ipython",
    "version": 3
   },
   "file_extension": ".py",
   "mimetype": "text/x-python",
   "name": "python",
   "nbconvert_exporter": "python",
   "pygments_lexer": "ipython3",
   "version": "3.11.5"
  }
 },
 "nbformat": 4,
 "nbformat_minor": 1
}
