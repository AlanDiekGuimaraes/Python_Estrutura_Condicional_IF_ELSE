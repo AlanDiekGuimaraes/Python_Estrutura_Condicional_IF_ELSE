{
 "cells": [
  {
   "cell_type": "code",
   "execution_count": null,
   "metadata": {
    "colab": {
     "base_uri": "https://localhost:8080/"
    },
    "executionInfo": {
     "elapsed": 4090,
     "status": "ok",
     "timestamp": 1707481011308,
     "user": {
      "displayName": "Alan Diek Guimarães",
      "userId": "14723038698467659112"
     },
     "user_tz": 180
    },
    "id": "K6oIUN6juqre",
    "is_executing": true,
    "outputId": "e6193163-2dfb-4a3b-984f-7458f173e412"
   },
   "outputs": [],
   "source": [
    "\n",
    "\n"
   ]
  },
  {
   "cell_type": "code",
   "execution_count": null,
   "metadata": {
    "colab": {
     "base_uri": "https://localhost:8080/"
    },
    "executionInfo": {
     "elapsed": 2272,
     "status": "ok",
     "timestamp": 1707433622324,
     "user": {
      "displayName": "Alan Diek Guimarães",
      "userId": "14723038698467659112"
     },
     "user_tz": 180
    },
    "id": "xTawrdzw80yx",
    "is_executing": true,
    "outputId": "655e9e63-fbd4-4712-f59b-ed9123056099"
   },
   "outputs": [],
   "source": []
  },
  {
   "cell_type": "code",
   "execution_count": null,
   "metadata": {
    "colab": {
     "base_uri": "https://localhost:8080/"
    },
    "executionInfo": {
     "elapsed": 2180,
     "status": "ok",
     "timestamp": 1707434342365,
     "user": {
      "displayName": "Alan Diek Guimarães",
      "userId": "14723038698467659112"
     },
     "user_tz": 180
    },
    "id": "0Cu7kJTh_CMU",
    "outputId": "b0d04e8f-3f87-43b3-f318-1adfcb498660"
   },
   "outputs": [
    {
     "name": "stdout",
     "output_type": "stream",
     "text": [
      "Informe sua idade: 15\n",
      "Você é menor de idade\n"
     ]
    }
   ],
   "source": []
  },
  {
   "cell_type": "code",
   "execution_count": null,
   "metadata": {
    "colab": {
     "base_uri": "https://localhost:8080/"
    },
    "executionInfo": {
     "elapsed": 2460,
     "status": "ok",
     "timestamp": 1707435613039,
     "user": {
      "displayName": "Alan Diek Guimarães",
      "userId": "14723038698467659112"
     },
     "user_tz": 180
    },
    "id": "5n0ArouOC9DB",
    "outputId": "39aeebac-3f8f-4b77-ff6f-3240b8b4bed9"
   },
   "outputs": [
    {
     "name": "stdout",
     "output_type": "stream",
     "text": [
      "Caro usuário, qual é a temperatura atual? 29\n",
      "29°C é considerado agradável\n"
     ]
    }
   ],
   "source": [
    "\n"
   ]
  },
  {
   "cell_type": "code",
   "execution_count": null,
   "metadata": {
    "colab": {
     "base_uri": "https://localhost:8080/"
    },
    "executionInfo": {
     "elapsed": 4482,
     "status": "ok",
     "timestamp": 1707437612863,
     "user": {
      "displayName": "Alan Diek Guimarães",
      "userId": "14723038698467659112"
     },
     "user_tz": 180
    },
    "id": "A7qnPxV6FhN9",
    "outputId": "10732ec5-1f90-45e9-b741-b482e49a86f5"
   },
   "outputs": [
    {
     "name": "stdout",
     "output_type": "stream",
     "text": [
      "Informe um número: 5\n",
      "Informe outro número: 5\n",
      "Os números são iguais\n"
     ]
    }
   ],
   "source": [
    "\n"
   ]
  },
  {
   "cell_type": "code",
   "execution_count": null,
   "metadata": {
    "colab": {
     "base_uri": "https://localhost:8080/"
    },
    "executionInfo": {
     "elapsed": 2376,
     "status": "ok",
     "timestamp": 1707437980153,
     "user": {
      "displayName": "Alan Diek Guimarães",
      "userId": "14723038698467659112"
     },
     "user_tz": 180
    },
    "id": "YVxlTgF_Noga",
    "outputId": "02aa1bc2-9a7b-4914-9bda-b176c22c7a8e"
   },
   "outputs": [
    {
     "name": "stdout",
     "output_type": "stream",
     "text": [
      "Informe sua senha: 1245\n",
      "ACESSO NEGADO\n"
     ]
    }
   ],
   "source": []
  },
  {
   "cell_type": "code",
   "execution_count": null,
   "metadata": {
    "colab": {
     "base_uri": "https://localhost:8080/"
    },
    "executionInfo": {
     "elapsed": 8489,
     "status": "ok",
     "timestamp": 1707439167604,
     "user": {
      "displayName": "Alan Diek Guimarães",
      "userId": "14723038698467659112"
     },
     "user_tz": 180
    },
    "id": "amBF1qcHPVne",
    "outputId": "10a5cc3b-79f7-4c05-a4c9-49a3a0951692"
   },
   "outputs": [
    {
     "name": "stdout",
     "output_type": "stream",
     "text": [
      "Informe sua primeira nota25\n",
      "Nota inválida \n",
      "Informe sua primeira nota10\n",
      "Informe sua segunda nota3\n",
      "Não foi dessa vez, você está em EXAME, sua media foi 6.5\n"
     ]
    }
   ],
   "source": []
  },
  {
   "cell_type": "code",
   "execution_count": null,
   "metadata": {
    "colab": {
     "base_uri": "https://localhost:8080/"
    },
    "executionInfo": {
     "elapsed": 4473,
     "status": "ok",
     "timestamp": 1707440044014,
     "user": {
      "displayName": "Alan Diek Guimarães",
      "userId": "14723038698467659112"
     },
     "user_tz": 180
    },
    "id": "Pugx6h3fQ_Bh",
    "outputId": "6d90240a-8038-45d9-e1f6-1f18458deae3"
   },
   "outputs": [
    {
     "name": "stdout",
     "output_type": "stream",
     "text": [
      "Informe qual foi o placar da seleção BRASILEIRA 2\n",
      "Informe qual foi o placar da seleção ARGENTINA 2\n",
      "O resultado do jogo foi empate \n"
     ]
    }
   ],
   "source": []
  },
  {
   "cell_type": "code",
   "execution_count": 2,
   "metadata": {
    "colab": {
     "base_uri": "https://localhost:8080/",
     "height": 390
    },
    "executionInfo": {
     "elapsed": 10739,
     "status": "error",
     "timestamp": 1707518560436,
     "user": {
      "displayName": "Alan Diek Guimarães",
      "userId": "14723038698467659112"
     },
     "user_tz": 180
    },
    "id": "Y95wwWHoW93U",
    "outputId": "9f8ce6f5-8221-4f31-be86-bb21ed361c29"
   },
   "outputs": [
    {
     "name": "stdout",
     "output_type": "stream",
     "text": [
      "Informe em qual turno você estuda. M para matutino, , V para Vespertino ou N para Noturno p\n",
      "Desculpe, opção invalida\n",
      "Informe em qual turno você estuda. M para matutino, , V para Vespertino ou N para Noturno p\n",
      "Desculpe, opção invalida\n",
      "Informe em qual turno você estuda. M para matutino, , V para Vespertino ou N para Noturno t\n",
      "Desculpe, opção invalida\n",
      "Informe em qual turno você estuda. M para matutino, , V para Vespertino ou N para Noturno n\n",
      "Boa Noite\n"
     ]
    }
   ],
   "source": []
  },
  {
   "cell_type": "code",
   "execution_count": null,
   "metadata": {
    "colab": {
     "base_uri": "https://localhost:8080/"
    },
    "executionInfo": {
     "elapsed": 2053,
     "status": "ok",
     "timestamp": 1707484757132,
     "user": {
      "displayName": "Alan Diek Guimarães",
      "userId": "14723038698467659112"
     },
     "user_tz": 180
    },
    "id": "qOquhdbWY2iR",
    "outputId": "1b86daa7-76d6-4c46-eb9e-6ae254d7355c"
   },
   "outputs": [
    {
     "name": "stdout",
     "output_type": "stream",
     "text": [
      "Informe sua idade 151\n",
      "Você digitou errado ou você é um DEUS\n"
     ]
    }
   ],
   "source": []
  },
  {
   "cell_type": "code",
   "execution_count": null,
   "metadata": {
    "colab": {
     "base_uri": "https://localhost:8080/"
    },
    "executionInfo": {
     "elapsed": 3315,
     "status": "ok",
     "timestamp": 1707493734710,
     "user": {
      "displayName": "Alan Diek Guimarães",
      "userId": "14723038698467659112"
     },
     "user_tz": 180
    },
    "id": "zE0uDkg6dWR-",
    "outputId": "3b4089e9-56b4-41fa-b641-cc00ff1db11f"
   },
   "outputs": [
    {
     "name": "stdout",
     "output_type": "stream",
     "text": [
      "Informe o valor de seu salario R$: 1501\n",
      "O seu salário antes do reajuste era R$ 1501.00 reais, você teve um reajuste de 5%, o valor do aumento foi de R$ 75.05 reais, seu novo salário é de R$ 1576.05 reais\n"
     ]
    }
   ],
   "source": []
  },
  {
   "cell_type": "code",
   "execution_count": null,
   "metadata": {
    "colab": {
     "base_uri": "https://localhost:8080/"
    },
    "executionInfo": {
     "elapsed": 15848,
     "status": "ok",
     "timestamp": 1707511777024,
     "user": {
      "displayName": "Alan Diek Guimarães",
      "userId": "14723038698467659112"
     },
     "user_tz": 180
    },
    "id": "jRwlZe7Nk-t8",
    "outputId": "0caef510-b2d8-485c-cfbb-6f4074d7e79f"
   },
   "outputs": [
    {
     "name": "stdout",
     "output_type": "stream",
     "text": [
      "Informe o dia da semana (1-Domingo, 2- Segunda, ...) 9\n",
      "Valor Invalido\n",
      "Informe o dia da semana (1-Domingo, 2- Segunda, ...) 10\n",
      "Valor Invalido\n",
      "Informe o dia da semana (1-Domingo, 2- Segunda, ...) 10\n",
      "Valor Invalido\n",
      "Informe o dia da semana (1-Domingo, 2- Segunda, ...) 8\n",
      "Valor Invalido\n",
      "Informe o dia da semana (1-Domingo, 2- Segunda, ...) 7\n",
      "Hoje é SÁBADO\n"
     ]
    }
   ],
   "source": [
    "\n"
   ]
  },
  {
   "cell_type": "code",
   "execution_count": null,
   "metadata": {
    "colab": {
     "base_uri": "https://localhost:8080/"
    },
    "executionInfo": {
     "elapsed": 4695,
     "status": "ok",
     "timestamp": 1707513406629,
     "user": {
      "displayName": "Alan Diek Guimarães",
      "userId": "14723038698467659112"
     },
     "user_tz": 180
    },
    "id": "NE-G6wO9okC7",
    "outputId": "64396189-cc17-4333-83b6-a3ae45e285e6"
   },
   "outputs": [
    {
     "name": "stdout",
     "output_type": "stream",
     "text": [
      "Digite qual opção da corversão: 1 Fahrenheit → Celsius e 2 Celsius →  Fahrenheit 2\n",
      "Informe qual a temperatura Celsius atual: 0\n",
      "temperatura em Fahrenheit é: 32.00 °F\n"
     ]
    }
   ],
   "source": []
  },
  {
   "cell_type": "code",
   "execution_count": null,
   "metadata": {
    "colab": {
     "base_uri": "https://localhost:8080/"
    },
    "executionInfo": {
     "elapsed": 6301,
     "status": "ok",
     "timestamp": 1707513926910,
     "user": {
      "displayName": "Alan Diek Guimarães",
      "userId": "14723038698467659112"
     },
     "user_tz": 180
    },
    "id": "3kbIyLUFu833",
    "outputId": "ffa42f77-d1d6-4135-87da-389365be3041"
   },
   "outputs": [
    {
     "name": "stdout",
     "output_type": "stream",
     "text": [
      "Informe sua idade: 150\n",
      "Idade Invalida\n",
      "Informe sua idade: 66\n",
      "Voto optativo\n"
     ]
    }
   ],
   "source": []
  },
  {
   "cell_type": "code",
   "execution_count": null,
   "metadata": {
    "id": "G4DYdsCX8q_J"
   },
   "outputs": [],
   "source": []
  },
  {
   "cell_type": "code",
   "execution_count": 61,
   "metadata": {
    "colab": {
     "base_uri": "https://localhost:8080/"
    },
    "executionInfo": {
     "elapsed": 4838,
     "status": "ok",
     "timestamp": 1707519416153,
     "user": {
      "displayName": "Alan Diek Guimarães",
      "userId": "14723038698467659112"
     },
     "user_tz": 180
    },
    "id": "NVvTXMis9LTL",
    "outputId": "cf0304f1-2a8b-46da-c84e-090bf03fff1b"
   },
   "outputs": [
    {
     "name": "stdout",
     "output_type": "stream",
     "text": [
      "Informe o valor do primeiro produto R$5\n",
      "Informe o valor do segundo produto R$4\n",
      "Informe o valor do terceiro produto R$6\n",
      "O menor preco é R$4.0\n"
     ]
    }
   ],
   "source": [
    "\n"
   ]
  }
 ],
 "metadata": {
  "colab": {
   "authorship_tag": "ABX9TyNXhamPnyycb6OCN2Asn7g8",
   "provenance": []
  },
  "kernelspec": {
   "display_name": "Python 3 (ipykernel)",
   "language": "python",
   "name": "python3"
  },
  "language_info": {
   "codemirror_mode": {
    "name": "ipython",
    "version": 3
   },
   "file_extension": ".py",
   "mimetype": "text/x-python",
   "name": "python",
   "nbconvert_exporter": "python",
   "pygments_lexer": "ipython3",
   "version": "3.11.5"
  }
 },
 "nbformat": 4,
 "nbformat_minor": 1
}
